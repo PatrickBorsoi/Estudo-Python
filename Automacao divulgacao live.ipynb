{
 "cells": [
  {
   "cell_type": "code",
   "execution_count": 2,
   "id": "5f329da5",
   "metadata": {},
   "outputs": [],
   "source": [
    "# importar as bibliotecas\n",
    "# faz a automação do mause e do teclado\n",
    "import pyautogui \n",
    "\n",
    "# controla o tempo do nosso programa\n",
    "import time \n",
    "\n",
    "# copiar e colar com o python\n",
    "import  pyperclip "
   ]
  },
  {
   "cell_type": "code",
   "execution_count": 3,
   "id": "aaf36dc6",
   "metadata": {},
   "outputs": [
    {
     "data": {
      "text/plain": [
       "Point(x=1623, y=988)"
      ]
     },
     "execution_count": 3,
     "metadata": {},
     "output_type": "execute_result"
    }
   ],
   "source": [
    "#Esperar para dar tempo de vc ir na outra pagina\n",
    "time.sleep(4)\n",
    "#deixar o mouse em cima do local que vc quer saber a posição\n",
    "pyautogui.position()"
   ]
  },
  {
   "cell_type": "code",
   "execution_count": 7,
   "id": "1a36da45",
   "metadata": {},
   "outputs": [
    {
     "name": "stdout",
     "output_type": "stream",
     "text": [
      "oi\n"
     ]
    }
   ],
   "source": [
    "mensagem = input()\n",
    "\n",
    "mensagem = str(mensagem)\n",
    "\n",
    "live = mensagem + ' twitch.tv/ptkperez'"
   ]
  },
  {
   "cell_type": "code",
   "execution_count": 8,
   "id": "83c63f45",
   "metadata": {},
   "outputs": [
    {
     "name": "stdout",
     "output_type": "stream",
     "text": [
      "oi twitch.tv/ptkperez\n"
     ]
    }
   ],
   "source": [
    "print(live)"
   ]
  },
  {
   "cell_type": "code",
   "execution_count": 22,
   "id": "d61dbca8",
   "metadata": {},
   "outputs": [],
   "source": [
    "#Abre uma nova aba\n",
    "pyautogui.hotkey('ctrl', 't')\n",
    "\n",
    "#Armazena o link do whats em uma variavel\n",
    "wpp = \"https://web.whatsapp.com\"\n",
    "\n",
    "# copia oque esta na variavel\n",
    "pyperclip.copy(wpp)\n",
    "\n",
    "# Cola\n",
    "pyautogui.hotkey('ctrl', 'v')\n",
    "#Entra no whatsapp\n",
    "pyautogui.press(\"enter\")"
   ]
  },
  {
   "cell_type": "code",
   "execution_count": 10,
   "id": "c6cb80bd",
   "metadata": {},
   "outputs": [
    {
     "name": "stdout",
     "output_type": "stream",
     "text": [
     ]
    }
   ],
   "source": [
    "gruposWpp = input()\n",
    "ok = \"ok\"\n",
    "while gruposWpp != ok:\n",
    "    pyautogui.hotkey('ctrl', 'tab')\n",
    "    time.sleep(1.5)\n",
    "    pyautogui.click(x=567, y=168)\n",
    "    time.sleep(2)\n",
    "    pyautogui.write(gruposWpp,0.1)\n",
    "    time.sleep(1.5)\n",
    "    pyautogui.press(\"enter\")\n",
    "    time.sleep(1.5)\n",
    "    pyautogui.click(x=967, y=983)\n",
    "    time.sleep(2)\n",
    "    pyautogui.write(live)\n",
    "    time.sleep(2)\n",
    "    pyautogui.click(x=1623, y=988)\n",
    "    pyautogui.hotkey('ctrl', 'tab')\n",
    "    gruposWpp = input()"
   ]
  },
  {
   "cell_type": "code",
   "execution_count": 5,
   "id": "8ffcd1ba",
   "metadata": {},
   "outputs": [],
   "source": [
    "#Entrar no twitter (link)Teste\n",
    "pyautogui.hotkey('ctrl', 't')\n",
    "\n",
    "tt = \"https://twitter.com/home\"\n",
    "\n",
    "#copiar link\n",
    "pyperclip.copy(tt)\n",
    "\n",
    "pyautogui.hotkey('ctrl', 'v')\n",
    "\n",
    "pyautogui.press(\"enter\")\n"
   ]
  },
  {
   "cell_type": "code",
   "execution_count": 147,
   "id": "631b5fa6",
   "metadata": {},
   "outputs": [],
   "source": [
    "# esperar um pouco\n",
    "time.sleep(5)\n",
    "\n",
    "#descrição twitter\n",
    "pyautogui.click(855, 160, clicks=1)\n",
    "\n",
    "pyautogui.write(live,0.1)\n",
    "\n",
    "time.sleep(3)\n",
    "\n",
    "pyautogui.click(1133, 382)"
   ]
  },
  {
   "cell_type": "code",
   "execution_count": null,
   "id": "68edcadb",
   "metadata": {},
   "outputs": [],
   "source": []
  }
 ],
 "metadata": {
  "kernelspec": {
   "display_name": "Python 3 (ipykernel)",
   "language": "python",
   "name": "python3"
  },
  "language_info": {
   "codemirror_mode": {
    "name": "ipython",
    "version": 3
   },
   "file_extension": ".py",
   "mimetype": "text/x-python",
   "name": "python",
   "nbconvert_exporter": "python",
   "pygments_lexer": "ipython3",
   "version": "3.8.8"
  }
 },
 "nbformat": 4,
 "nbformat_minor": 5
}
